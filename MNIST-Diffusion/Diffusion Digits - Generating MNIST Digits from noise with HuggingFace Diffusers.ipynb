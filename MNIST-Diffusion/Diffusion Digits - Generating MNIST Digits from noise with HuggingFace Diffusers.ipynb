{
  "cells": [
    {
      "cell_type": "markdown",
      "id": "a1a0807f",
      "metadata": {
        "toc": true,
        "id": "a1a0807f"
      },
      "source": [
        "<h1>Table of Contents<span class=\"tocSkip\"></span></h1>\n",
        "<div class=\"toc\"><ul class=\"toc-item\"><li><span><a href=\"#Diffusing-Digits---Generating-MNIST-Digits-from-noise-with-HuggingFace-Diffusers\" data-toc-modified-id=\"Diffusing-Digits---Generating-MNIST-Digits-from-noise-with-HuggingFace-Diffusers-1\">Diffusing Digits - Generating MNIST Digits from noise with HuggingFace Diffusers</a></span><ul class=\"toc-item\"><li><span><a href=\"#Diffusion-Models---Quick-and-Dirty\" data-toc-modified-id=\"Diffusion-Models---Quick-and-Dirty-1.1\">Diffusion Models - Quick and Dirty</a></span><ul class=\"toc-item\"><li><span><a href=\"#Diffusion-Models---Training\" data-toc-modified-id=\"Diffusion-Models---Training-1.1.1\">Diffusion Models - Training</a></span></li><li><span><a href=\"#Diffusion-Models---Sampling\" data-toc-modified-id=\"Diffusion-Models---Sampling-1.1.2\">Diffusion Models - Sampling</a></span></li></ul></li><li><span><a href=\"#Outline\" data-toc-modified-id=\"Outline-1.2\">Outline</a></span></li><li><span><a href=\"#Defining-Hyperparameters\" data-toc-modified-id=\"Defining-Hyperparameters-1.3\">Defining Hyperparameters</a></span></li><li><span><a href=\"#Preparing-MNIST-Dataset\" data-toc-modified-id=\"Preparing-MNIST-Dataset-1.4\">Preparing MNIST Dataset</a></span><ul class=\"toc-item\"><li><span><a href=\"#Downloading-MNIST-with-HuggingFace-datasets\" data-toc-modified-id=\"Downloading-MNIST-with-HuggingFace-datasets-1.4.1\">Downloading MNIST with HuggingFace <code>datasets</code></a></span></li><li><span><a href=\"#Data-Preprocessing-and-Augmentation\" data-toc-modified-id=\"Data-Preprocessing-and-Augmentation-1.4.2\">Data Preprocessing and Augmentation</a></span></li></ul></li><li><span><a href=\"#Creating-the-Diffusion-Model\" data-toc-modified-id=\"Creating-the-Diffusion-Model-1.5\">Creating the Diffusion Model</a></span><ul class=\"toc-item\"><li><span><a href=\"#U-Net-for-MNIST\" data-toc-modified-id=\"U-Net-for-MNIST-1.5.1\">U-Net for MNIST</a></span></li><li><span><a href=\"#Noise-Scheduler\" data-toc-modified-id=\"Noise-Scheduler-1.5.2\">Noise Scheduler</a></span></li><li><span><a href=\"#Optimizer\" data-toc-modified-id=\"Optimizer-1.5.3\">Optimizer</a></span></li><li><span><a href=\"#Learning-Rate-Scheduler\" data-toc-modified-id=\"Learning-Rate-Scheduler-1.5.4\">Learning Rate Scheduler</a></span></li></ul></li><li><span><a href=\"#Training-the-Model\" data-toc-modified-id=\"Training-the-Model-1.6\">Training the Model</a></span><ul class=\"toc-item\"><li><span><a href=\"#Creating-and-Running-Training-Loop\" data-toc-modified-id=\"Creating-and-Running-Training-Loop-1.6.1\">Creating and Running Training Loop</a></span></li></ul></li><li><span><a href=\"#Create-a-sampling-function\" data-toc-modified-id=\"Create-a-sampling-function-1.7\">Create a sampling function</a></span></li><li><span><a href=\"#Sample-some-good-looking-digits!\" data-toc-modified-id=\"Sample-some-good-looking-digits!-1.8\">Sample some good looking digits!</a></span></li></ul></li></ul></div>"
      ]
    },
    {
      "cell_type": "markdown",
      "id": "712f03c6",
      "metadata": {
        "id": "712f03c6"
      },
      "source": [
        "[![Open in Colab](https://colab.research.google.com/assets/colab-badge.svg)](https://colab.research.google.com/github/st-howard/blog-notebooks/blob/main/MNIST-Diffusion/Diffusion%20Digits%20-%20Generating%20MNIST%20Digits%20from%20noise%20with%20HuggingFace%20Diffusers.ipynb)"
      ]
    },
    {
      "cell_type": "markdown",
      "id": "82ea537c",
      "metadata": {
        "id": "82ea537c"
      },
      "source": [
        "# Diffusing Digits - Generating MNIST Digits from noise with HuggingFace Diffusers\n",
        "\n",
        "Diffusion models have become the state of the art generative model by learning how to progressively remove \"noise\" from a randomly generated noise field until the sample matches the training data distribution. Diffusion models are a fundamental part of several noteworthy text to image models, including Imagen, DALLE-2, and Stable Diffusion. However, they are capabilities beyond text to image generation and are applicable to a large variety of generative tasks.\n",
        "\n",
        "Here a minimal diffusion model is trained on the iconic [MNIST Digits](http://yann.lecun.com/exdb/mnist/) database using several [HuggingFace](https://huggingface.co/) libraries. The flow follows that of the [example](https://github.com/huggingface/diffusers/blob/main/docs/source/training/overview.mdx) HuggingFace notebook for unconditional image generation. I chose HuggingFace libraries for the implementation to learn their framework and I found that they were a nice balance between coding everything up in raw PyTorch (as was done in [HuggingFace annotated diffusion blog post](https://huggingface.co/blog/annotated-diffusion)) and tailored implementations such as Phil Wang's [denoising-diffusion-pytorch](https://github.com/lucidrains/denoising-diffusion-pytorch)."
      ]
    },
    {
      "cell_type": "markdown",
      "id": "3ff54cf3",
      "metadata": {
        "heading_collapsed": true,
        "id": "3ff54cf3"
      },
      "source": [
        "## Diffusion Models - Quick and Dirty\n",
        "\n",
        "Conceptually, diffusion models are built upon a series of noising and denoising steps. In the noising process, random Gaussian noise is iteratively added to data (typically an image but can be any numeric datatype). After many steps of adding noise, the original data becomes indistinguishable from Gaussian noise. This noising process is going from __right to left__ in the below figure from the [Denoising Diffusion Probabilistic Models paper](https://arxiv.org/abs/2006.11239) (often referred to as DDPM). In practice, getting from the original data to the step $t$ of the noising process can be done in one go based upon convenient properties of Gaussians.\n",
        "\n",
        "![Diffusion Process](https://huggingface.co/blog/assets/78_annotated-diffusion/diffusion_figure.png)\n",
        "\n",
        "The real juice of diffusion models is the denoising process. In the figure above, each denoising step (__left to right__ in above figure), attempts to remove the noise added from previous step. Given noisy data, the diffusion model tries to predict the noise present in the data (slightly different to the above depiction which shows the model learning the conditional probability distribution $p(x_{t-1} | x_t)$). This noise is iteratively removed until the denoised data, which by characteristic of the training distribution, is left.\n",
        "\n",
        "Diffusion models can be broken down into two algorithms, one for training and one for sampling.\n",
        "\n",
        "### Diffusion Models - Training\n",
        "The training algorithm is relatively simple and follow the steps\n",
        "- Take data from training distribution\n",
        "- Randomly select a step within the noisig/denoising process\n",
        "- Sample random Gaussian noise with zero mean and unit variance\n",
        "- Take noise field and data from training distribution and noise it to selected step from noising process.\n",
        "- Predict the noise present in the noisy data\n",
        "- Update model based upon mean squared error of actual noise and predicted noise\n",
        "\n",
        "Which is shown in the psuedocode from the [Ho et. al paper](https://arxiv.org/abs/2006.11239).\n",
        "\n",
        "![Training Pseudocode](https://huggingface.co/blog/assets/78_annotated-diffusion/training.png)\n",
        "\n",
        "### Diffusion Models - Sampling\n",
        "With a model that takes a noisy image and predicts the noise given the step in the noising chain, can iteratively denoise the data with the following steps\n",
        "- Generate the fully noised data at last step $T$\n",
        "- For each step in the chain, predict the noise in the image and remove some fraction of it.\n",
        "\n",
        "Which is shown in the pseudocode\n",
        "\n",
        "![Sampling Psuedocode](https://huggingface.co/blog/assets/78_annotated-diffusion/sampling.png)\n",
        "\n",
        "There are details about noise and learning rate schedules which were omitted from the above, but covered in the [annotated diffusion blog post](https://huggingface.co/blog/annotated-diffusion)"
      ]
    },
    {
      "cell_type": "markdown",
      "id": "7017bb4b",
      "metadata": {
        "id": "7017bb4b"
      },
      "source": [
        "##  Outline\n",
        "\n",
        "In creating a diffusion model with HuggingFace, I found there to be __4__ main stages after choosing the hyperparameters, each with defined subtasks. I've shown an outline below\n",
        "\n",
        "0. Defining Hyperparameters\n",
        "1. Preparing Dataset\n",
        "    * Downloading MNIST with HuggingFace `datasets`\n",
        "    * Data preprocessing and augmentation\n",
        "2. Creating the Diffusion Model\n",
        "    * U-Net for MNIST\n",
        "    * Noise Scheduler\n",
        "    * Optimizer\n",
        "    * Learning Rate Scheduler\n",
        "3. Training the Model\n",
        "    * HuggingFace Accelerator\n",
        "    * Working with memory restrictions\n",
        "    * Creating and running training script\n",
        "4. Generating Images\n",
        "    * Huggingface pipelines for inference"
      ]
    },
    {
      "cell_type": "code",
      "execution_count": 1,
      "id": "30743cfe",
      "metadata": {
        "id": "30743cfe"
      },
      "outputs": [],
      "source": [
        "%%capture\n",
        "!pip install diffusers[training]==0.2.3\n",
        "\n",
        "!pip install \"ipywidgets>=7,<8\""
      ]
    },
    {
      "cell_type": "code",
      "execution_count": 2,
      "id": "4f4ecd92",
      "metadata": {
        "ExecuteTime": {
          "end_time": "2022-09-18T13:59:41.033127Z",
          "start_time": "2022-09-18T13:59:39.025370Z"
        },
        "id": "4f4ecd92"
      },
      "outputs": [],
      "source": [
        "# Imports\n",
        "\n",
        "# Pytorch\n",
        "import torch\n",
        "\n",
        "import torchvision\n",
        "\n",
        "# HuggingFace\n",
        "import datasets\n",
        "import diffusers\n",
        "import accelerate\n",
        "\n",
        "# Training and Visualization\n",
        "from tqdm.auto import tqdm\n",
        "import matplotlib.pyplot as plt\n",
        "import os\n",
        "import PIL"
      ]
    },
    {
      "cell_type": "markdown",
      "id": "b31facec",
      "metadata": {
        "id": "b31facec"
      },
      "source": [
        "## Defining Hyperparameters\n",
        "\n",
        "In the training config class shown below, I've chosen an image size of 32x32 instead of the default MNIST resolution of 28x28. This slight upscaling is in order to make the image width/height be a power of 2, i.e. $2^5$. In the default U-Net architecture, each downsampling layer reduces the width and height of the image by 2. Therefore after the three downsampling blocks I used in the U-Net, the output size will be 4x4x$N$, where $N$ is a configurable parameter of the model architecture. As the width and height of the image is reduced, the number of learned channels increases. So in the U-Net configured here, the bottleneck layer has dimension of 4x4x512.\n",
        "\n",
        "The batch sizes chosen are done in order to comfortably fit on a 8 GB memory GPU. I find that training occupies approximately 4 GB of memory. Since one epoch contains all sixty thousand training examples, only a couple epochs are needed for the model to converge, with most of the learning being done within the first epoch.\n",
        "\n",
        "The `lr_warmup_steps` is the number of mini-batches where the learning rate is increased until hitting the base learning rate listed in `learning_rate`. After the learning rate reaches this value, a cosine scheduler is used to slowly decrease the learning rate, as described in [Improved Denoising Diffusion Probabilistic Models](https://arxiv.org/abs/2102.09672)."
      ]
    },
    {
      "cell_type": "code",
      "execution_count": 3,
      "id": "ec90c39a",
      "metadata": {
        "ExecuteTime": {
          "end_time": "2022-09-18T13:59:41.040287Z",
          "start_time": "2022-09-18T13:59:41.036135Z"
        },
        "id": "ec90c39a"
      },
      "outputs": [],
      "source": [
        "from dataclasses import dataclass\n",
        "\n",
        "@dataclass\n",
        "class TrainingConfig:\n",
        "    image_size=32 #Resize the digits to be a power of two\n",
        "    train_batch_size = 32\n",
        "    eval_batch_size = 32\n",
        "    num_epochs = 5\n",
        "    gradient_accumulation_steps = 1\n",
        "    learning_rate = 1e-4\n",
        "    lr_warmpup_steps = 500\n",
        "    mixed_precision = 'fp16'\n",
        "    seed = 0\n",
        "\n",
        "config = TrainingConfig()"
      ]
    },
    {
      "cell_type": "markdown",
      "id": "b7ed9766",
      "metadata": {
        "id": "b7ed9766"
      },
      "source": [
        "## Preparing MNIST Dataset\n",
        "\n",
        "### Downloading MNIST with HuggingFace `datasets`\n",
        "\n",
        "HuggingFace has almost ten thousand dataset for download, which can be searched from the [datasets tab](https://huggingface.co/datasets) of their website. They can be downloaded with their `datasets` python library and the [`load_dataset()`](https://huggingface.co/docs/datasets/loading) function.\n",
        "\n",
        "If not specified, the data will be downloaded to the `~/.cache` directory. If you want to put the files in another location, either specify the `data_dir` optional argument or change the environment variable `HF_DATASETS_CACHE` to the desired path.\n",
        "\n",
        "Here MNIST digits are loaded into a `Dataset` object, where metadata, labels, and images can be accessed in a manner similar to python dictionaries."
      ]
    },
    {
      "cell_type": "code",
      "source": [
        "!pip install -U diffusers accelerate datasets torchvision --progress-bar off"
      ],
      "metadata": {
        "id": "uk05mzs317AV"
      },
      "id": "uk05mzs317AV",
      "execution_count": null,
      "outputs": []
    },
    {
      "cell_type": "code",
      "execution_count": 7,
      "id": "51ac79e2",
      "metadata": {
        "ExecuteTime": {
          "end_time": "2022-09-18T13:59:41.616520Z",
          "start_time": "2022-09-18T13:59:41.045380Z"
        },
        "colab": {
          "base_uri": "https://localhost:8080/",
          "height": 293
        },
        "id": "51ac79e2",
        "outputId": "50a4eaca-33d9-45b8-b94c-982c133a079a"
      },
      "outputs": [
        {
          "output_type": "error",
          "ename": "ValueError",
          "evalue": "Invalid pattern: '**' can only be an entire path component",
          "traceback": [
            "\u001b[0;31m---------------------------------------------------------------------------\u001b[0m",
            "\u001b[0;31mValueError\u001b[0m                                Traceback (most recent call last)",
            "\u001b[0;32m/tmp/ipython-input-7-1436048047.py\u001b[0m in \u001b[0;36m<cell line: 0>\u001b[0;34m()\u001b[0m\n\u001b[0;32m----> 1\u001b[0;31m \u001b[0mmnist_dataset\u001b[0m \u001b[0;34m=\u001b[0m \u001b[0mdatasets\u001b[0m\u001b[0;34m.\u001b[0m\u001b[0mload_dataset\u001b[0m\u001b[0;34m(\u001b[0m\u001b[0;34m'mnist'\u001b[0m\u001b[0;34m,\u001b[0m \u001b[0msplit\u001b[0m\u001b[0;34m=\u001b[0m\u001b[0;34m'train'\u001b[0m\u001b[0;34m)\u001b[0m\u001b[0;34m\u001b[0m\u001b[0;34m\u001b[0m\u001b[0m\n\u001b[0m",
            "\u001b[0;32m/usr/local/lib/python3.11/dist-packages/datasets/load.py\u001b[0m in \u001b[0;36mload_dataset\u001b[0;34m(path, name, data_dir, data_files, split, cache_dir, features, download_config, download_mode, verification_mode, ignore_verifications, keep_in_memory, save_infos, revision, token, use_auth_token, task, streaming, num_proc, storage_options, **config_kwargs)\u001b[0m\n\u001b[1;32m   2110\u001b[0m \u001b[0;34m\u001b[0m\u001b[0m\n\u001b[1;32m   2111\u001b[0m     \u001b[0;31m# Create a dataset builder\u001b[0m\u001b[0;34m\u001b[0m\u001b[0;34m\u001b[0m\u001b[0m\n\u001b[0;32m-> 2112\u001b[0;31m     builder_instance = load_dataset_builder(\n\u001b[0m\u001b[1;32m   2113\u001b[0m         \u001b[0mpath\u001b[0m\u001b[0;34m=\u001b[0m\u001b[0mpath\u001b[0m\u001b[0;34m,\u001b[0m\u001b[0;34m\u001b[0m\u001b[0;34m\u001b[0m\u001b[0m\n\u001b[1;32m   2114\u001b[0m         \u001b[0mname\u001b[0m\u001b[0;34m=\u001b[0m\u001b[0mname\u001b[0m\u001b[0;34m,\u001b[0m\u001b[0;34m\u001b[0m\u001b[0;34m\u001b[0m\u001b[0m\n",
            "\u001b[0;32m/usr/local/lib/python3.11/dist-packages/datasets/load.py\u001b[0m in \u001b[0;36mload_dataset_builder\u001b[0;34m(path, name, data_dir, data_files, cache_dir, features, download_config, download_mode, revision, token, use_auth_token, storage_options, **config_kwargs)\u001b[0m\n\u001b[1;32m   1796\u001b[0m         \u001b[0mdownload_config\u001b[0m \u001b[0;34m=\u001b[0m \u001b[0mdownload_config\u001b[0m\u001b[0;34m.\u001b[0m\u001b[0mcopy\u001b[0m\u001b[0;34m(\u001b[0m\u001b[0;34m)\u001b[0m \u001b[0;32mif\u001b[0m \u001b[0mdownload_config\u001b[0m \u001b[0;32melse\u001b[0m \u001b[0mDownloadConfig\u001b[0m\u001b[0;34m(\u001b[0m\u001b[0;34m)\u001b[0m\u001b[0;34m\u001b[0m\u001b[0;34m\u001b[0m\u001b[0m\n\u001b[1;32m   1797\u001b[0m         \u001b[0mdownload_config\u001b[0m\u001b[0;34m.\u001b[0m\u001b[0mstorage_options\u001b[0m\u001b[0;34m.\u001b[0m\u001b[0mupdate\u001b[0m\u001b[0;34m(\u001b[0m\u001b[0mstorage_options\u001b[0m\u001b[0;34m)\u001b[0m\u001b[0;34m\u001b[0m\u001b[0;34m\u001b[0m\u001b[0m\n\u001b[0;32m-> 1798\u001b[0;31m     dataset_module = dataset_module_factory(\n\u001b[0m\u001b[1;32m   1799\u001b[0m         \u001b[0mpath\u001b[0m\u001b[0;34m,\u001b[0m\u001b[0;34m\u001b[0m\u001b[0;34m\u001b[0m\u001b[0m\n\u001b[1;32m   1800\u001b[0m         \u001b[0mrevision\u001b[0m\u001b[0;34m=\u001b[0m\u001b[0mrevision\u001b[0m\u001b[0;34m,\u001b[0m\u001b[0;34m\u001b[0m\u001b[0;34m\u001b[0m\u001b[0m\n",
            "\u001b[0;32m/usr/local/lib/python3.11/dist-packages/datasets/load.py\u001b[0m in \u001b[0;36mdataset_module_factory\u001b[0;34m(path, revision, download_config, download_mode, dynamic_modules_path, data_dir, data_files, **download_kwargs)\u001b[0m\n\u001b[1;32m   1493\u001b[0m                         \u001b[0;34mf\"Couldn't find '{path}' on the Hugging Face Hub either: {type(e1).__name__}: {e1}\"\u001b[0m\u001b[0;34m\u001b[0m\u001b[0;34m\u001b[0m\u001b[0m\n\u001b[1;32m   1494\u001b[0m                     ) from None\n\u001b[0;32m-> 1495\u001b[0;31m                 \u001b[0;32mraise\u001b[0m \u001b[0me1\u001b[0m \u001b[0;32mfrom\u001b[0m \u001b[0;32mNone\u001b[0m\u001b[0;34m\u001b[0m\u001b[0;34m\u001b[0m\u001b[0m\n\u001b[0m\u001b[1;32m   1496\u001b[0m     \u001b[0;32melse\u001b[0m\u001b[0;34m:\u001b[0m\u001b[0;34m\u001b[0m\u001b[0;34m\u001b[0m\u001b[0m\n\u001b[1;32m   1497\u001b[0m         raise FileNotFoundError(\n",
            "\u001b[0;32m/usr/local/lib/python3.11/dist-packages/datasets/load.py\u001b[0m in \u001b[0;36mdataset_module_factory\u001b[0;34m(path, revision, download_config, download_mode, dynamic_modules_path, data_dir, data_files, **download_kwargs)\u001b[0m\n\u001b[1;32m   1477\u001b[0m                     \u001b[0mdownload_config\u001b[0m\u001b[0;34m=\u001b[0m\u001b[0mdownload_config\u001b[0m\u001b[0;34m,\u001b[0m\u001b[0;34m\u001b[0m\u001b[0;34m\u001b[0m\u001b[0m\n\u001b[1;32m   1478\u001b[0m                     \u001b[0mdownload_mode\u001b[0m\u001b[0;34m=\u001b[0m\u001b[0mdownload_mode\u001b[0m\u001b[0;34m,\u001b[0m\u001b[0;34m\u001b[0m\u001b[0;34m\u001b[0m\u001b[0m\n\u001b[0;32m-> 1479\u001b[0;31m                 ).get_module()\n\u001b[0m\u001b[1;32m   1480\u001b[0m         except (\n\u001b[1;32m   1481\u001b[0m             \u001b[0mException\u001b[0m\u001b[0;34m\u001b[0m\u001b[0;34m\u001b[0m\u001b[0m\n",
            "\u001b[0;32m/usr/local/lib/python3.11/dist-packages/datasets/load.py\u001b[0m in \u001b[0;36mget_module\u001b[0;34m(self)\u001b[0m\n\u001b[1;32m   1032\u001b[0m             \u001b[0msanitize_patterns\u001b[0m\u001b[0;34m(\u001b[0m\u001b[0mself\u001b[0m\u001b[0;34m.\u001b[0m\u001b[0mdata_files\u001b[0m\u001b[0;34m)\u001b[0m\u001b[0;34m\u001b[0m\u001b[0;34m\u001b[0m\u001b[0m\n\u001b[1;32m   1033\u001b[0m             \u001b[0;32mif\u001b[0m \u001b[0mself\u001b[0m\u001b[0;34m.\u001b[0m\u001b[0mdata_files\u001b[0m \u001b[0;32mis\u001b[0m \u001b[0;32mnot\u001b[0m \u001b[0;32mNone\u001b[0m\u001b[0;34m\u001b[0m\u001b[0;34m\u001b[0m\u001b[0m\n\u001b[0;32m-> 1034\u001b[0;31m             \u001b[0;32melse\u001b[0m \u001b[0mget_data_patterns\u001b[0m\u001b[0;34m(\u001b[0m\u001b[0mbase_path\u001b[0m\u001b[0;34m,\u001b[0m \u001b[0mdownload_config\u001b[0m\u001b[0;34m=\u001b[0m\u001b[0mself\u001b[0m\u001b[0;34m.\u001b[0m\u001b[0mdownload_config\u001b[0m\u001b[0;34m)\u001b[0m\u001b[0;34m\u001b[0m\u001b[0;34m\u001b[0m\u001b[0m\n\u001b[0m\u001b[1;32m   1035\u001b[0m         )\n\u001b[1;32m   1036\u001b[0m         data_files = DataFilesDict.from_patterns(\n",
            "\u001b[0;32m/usr/local/lib/python3.11/dist-packages/datasets/data_files.py\u001b[0m in \u001b[0;36mget_data_patterns\u001b[0;34m(base_path, download_config)\u001b[0m\n\u001b[1;32m    455\u001b[0m     \u001b[0mresolver\u001b[0m \u001b[0;34m=\u001b[0m \u001b[0mpartial\u001b[0m\u001b[0;34m(\u001b[0m\u001b[0mresolve_pattern\u001b[0m\u001b[0;34m,\u001b[0m \u001b[0mbase_path\u001b[0m\u001b[0;34m=\u001b[0m\u001b[0mbase_path\u001b[0m\u001b[0;34m,\u001b[0m \u001b[0mdownload_config\u001b[0m\u001b[0;34m=\u001b[0m\u001b[0mdownload_config\u001b[0m\u001b[0;34m)\u001b[0m\u001b[0;34m\u001b[0m\u001b[0;34m\u001b[0m\u001b[0m\n\u001b[1;32m    456\u001b[0m     \u001b[0;32mtry\u001b[0m\u001b[0;34m:\u001b[0m\u001b[0;34m\u001b[0m\u001b[0;34m\u001b[0m\u001b[0m\n\u001b[0;32m--> 457\u001b[0;31m         \u001b[0;32mreturn\u001b[0m \u001b[0m_get_data_files_patterns\u001b[0m\u001b[0;34m(\u001b[0m\u001b[0mresolver\u001b[0m\u001b[0;34m)\u001b[0m\u001b[0;34m\u001b[0m\u001b[0;34m\u001b[0m\u001b[0m\n\u001b[0m\u001b[1;32m    458\u001b[0m     \u001b[0;32mexcept\u001b[0m \u001b[0mFileNotFoundError\u001b[0m\u001b[0;34m:\u001b[0m\u001b[0;34m\u001b[0m\u001b[0;34m\u001b[0m\u001b[0m\n\u001b[1;32m    459\u001b[0m         \u001b[0;32mraise\u001b[0m \u001b[0mEmptyDatasetError\u001b[0m\u001b[0;34m(\u001b[0m\u001b[0;34mf\"The directory at {base_path} doesn't contain any data files\"\u001b[0m\u001b[0;34m)\u001b[0m \u001b[0;32mfrom\u001b[0m \u001b[0;32mNone\u001b[0m\u001b[0;34m\u001b[0m\u001b[0;34m\u001b[0m\u001b[0m\n",
            "\u001b[0;32m/usr/local/lib/python3.11/dist-packages/datasets/data_files.py\u001b[0m in \u001b[0;36m_get_data_files_patterns\u001b[0;34m(pattern_resolver)\u001b[0m\n\u001b[1;32m    246\u001b[0m             \u001b[0;32mfor\u001b[0m \u001b[0mpattern\u001b[0m \u001b[0;32min\u001b[0m \u001b[0mpatterns\u001b[0m\u001b[0;34m:\u001b[0m\u001b[0;34m\u001b[0m\u001b[0;34m\u001b[0m\u001b[0m\n\u001b[1;32m    247\u001b[0m                 \u001b[0;32mtry\u001b[0m\u001b[0;34m:\u001b[0m\u001b[0;34m\u001b[0m\u001b[0;34m\u001b[0m\u001b[0m\n\u001b[0;32m--> 248\u001b[0;31m                     \u001b[0mdata_files\u001b[0m \u001b[0;34m=\u001b[0m \u001b[0mpattern_resolver\u001b[0m\u001b[0;34m(\u001b[0m\u001b[0mpattern\u001b[0m\u001b[0;34m)\u001b[0m\u001b[0;34m\u001b[0m\u001b[0;34m\u001b[0m\u001b[0m\n\u001b[0m\u001b[1;32m    249\u001b[0m                 \u001b[0;32mexcept\u001b[0m \u001b[0mFileNotFoundError\u001b[0m\u001b[0;34m:\u001b[0m\u001b[0;34m\u001b[0m\u001b[0;34m\u001b[0m\u001b[0m\n\u001b[1;32m    250\u001b[0m                     \u001b[0;32mcontinue\u001b[0m\u001b[0;34m\u001b[0m\u001b[0;34m\u001b[0m\u001b[0m\n",
            "\u001b[0;32m/usr/local/lib/python3.11/dist-packages/datasets/data_files.py\u001b[0m in \u001b[0;36mresolve_pattern\u001b[0;34m(pattern, base_path, allowed_extensions, download_config)\u001b[0m\n\u001b[1;32m    330\u001b[0m         \u001b[0mbase_path\u001b[0m \u001b[0;34m=\u001b[0m \u001b[0;34m\"\"\u001b[0m\u001b[0;34m\u001b[0m\u001b[0;34m\u001b[0m\u001b[0m\n\u001b[1;32m    331\u001b[0m     \u001b[0mpattern\u001b[0m\u001b[0;34m,\u001b[0m \u001b[0mstorage_options\u001b[0m \u001b[0;34m=\u001b[0m \u001b[0m_prepare_path_and_storage_options\u001b[0m\u001b[0;34m(\u001b[0m\u001b[0mpattern\u001b[0m\u001b[0;34m,\u001b[0m \u001b[0mdownload_config\u001b[0m\u001b[0;34m=\u001b[0m\u001b[0mdownload_config\u001b[0m\u001b[0;34m)\u001b[0m\u001b[0;34m\u001b[0m\u001b[0;34m\u001b[0m\u001b[0m\n\u001b[0;32m--> 332\u001b[0;31m     \u001b[0mfs\u001b[0m\u001b[0;34m,\u001b[0m \u001b[0m_\u001b[0m\u001b[0;34m,\u001b[0m \u001b[0m_\u001b[0m \u001b[0;34m=\u001b[0m \u001b[0mget_fs_token_paths\u001b[0m\u001b[0;34m(\u001b[0m\u001b[0mpattern\u001b[0m\u001b[0;34m,\u001b[0m \u001b[0mstorage_options\u001b[0m\u001b[0;34m=\u001b[0m\u001b[0mstorage_options\u001b[0m\u001b[0;34m)\u001b[0m\u001b[0;34m\u001b[0m\u001b[0;34m\u001b[0m\u001b[0m\n\u001b[0m\u001b[1;32m    333\u001b[0m     \u001b[0mfs_base_path\u001b[0m \u001b[0;34m=\u001b[0m \u001b[0mbase_path\u001b[0m\u001b[0;34m.\u001b[0m\u001b[0msplit\u001b[0m\u001b[0;34m(\u001b[0m\u001b[0;34m\"::\"\u001b[0m\u001b[0;34m)\u001b[0m\u001b[0;34m[\u001b[0m\u001b[0;36m0\u001b[0m\u001b[0;34m]\u001b[0m\u001b[0;34m.\u001b[0m\u001b[0msplit\u001b[0m\u001b[0;34m(\u001b[0m\u001b[0;34m\"://\"\u001b[0m\u001b[0;34m)\u001b[0m\u001b[0;34m[\u001b[0m\u001b[0;34m-\u001b[0m\u001b[0;36m1\u001b[0m\u001b[0;34m]\u001b[0m \u001b[0;32mor\u001b[0m \u001b[0mfs\u001b[0m\u001b[0;34m.\u001b[0m\u001b[0mroot_marker\u001b[0m\u001b[0;34m\u001b[0m\u001b[0;34m\u001b[0m\u001b[0m\n\u001b[1;32m    334\u001b[0m     \u001b[0mfs_pattern\u001b[0m \u001b[0;34m=\u001b[0m \u001b[0mpattern\u001b[0m\u001b[0;34m.\u001b[0m\u001b[0msplit\u001b[0m\u001b[0;34m(\u001b[0m\u001b[0;34m\"::\"\u001b[0m\u001b[0;34m)\u001b[0m\u001b[0;34m[\u001b[0m\u001b[0;36m0\u001b[0m\u001b[0;34m]\u001b[0m\u001b[0;34m.\u001b[0m\u001b[0msplit\u001b[0m\u001b[0;34m(\u001b[0m\u001b[0;34m\"://\"\u001b[0m\u001b[0;34m)\u001b[0m\u001b[0;34m[\u001b[0m\u001b[0;34m-\u001b[0m\u001b[0;36m1\u001b[0m\u001b[0;34m]\u001b[0m\u001b[0;34m\u001b[0m\u001b[0;34m\u001b[0m\u001b[0m\n",
            "\u001b[0;32m/usr/local/lib/python3.11/dist-packages/fsspec/core.py\u001b[0m in \u001b[0;36mget_fs_token_paths\u001b[0;34m(urlpath, mode, num, name_function, storage_options, protocol, expand)\u001b[0m\n\u001b[1;32m    684\u001b[0m             \u001b[0mpaths\u001b[0m \u001b[0;34m=\u001b[0m \u001b[0m_expand_paths\u001b[0m\u001b[0;34m(\u001b[0m\u001b[0mpaths\u001b[0m\u001b[0;34m,\u001b[0m \u001b[0mname_function\u001b[0m\u001b[0;34m,\u001b[0m \u001b[0mnum\u001b[0m\u001b[0;34m)\u001b[0m\u001b[0;34m\u001b[0m\u001b[0;34m\u001b[0m\u001b[0m\n\u001b[1;32m    685\u001b[0m         \u001b[0;32melif\u001b[0m \u001b[0;34m\"*\"\u001b[0m \u001b[0;32min\u001b[0m \u001b[0mpaths\u001b[0m\u001b[0;34m:\u001b[0m\u001b[0;34m\u001b[0m\u001b[0;34m\u001b[0m\u001b[0m\n\u001b[0;32m--> 686\u001b[0;31m             \u001b[0mpaths\u001b[0m \u001b[0;34m=\u001b[0m \u001b[0;34m[\u001b[0m\u001b[0mf\u001b[0m \u001b[0;32mfor\u001b[0m \u001b[0mf\u001b[0m \u001b[0;32min\u001b[0m \u001b[0msorted\u001b[0m\u001b[0;34m(\u001b[0m\u001b[0mfs\u001b[0m\u001b[0;34m.\u001b[0m\u001b[0mglob\u001b[0m\u001b[0;34m(\u001b[0m\u001b[0mpaths\u001b[0m\u001b[0;34m)\u001b[0m\u001b[0;34m)\u001b[0m \u001b[0;32mif\u001b[0m \u001b[0;32mnot\u001b[0m \u001b[0mfs\u001b[0m\u001b[0;34m.\u001b[0m\u001b[0misdir\u001b[0m\u001b[0;34m(\u001b[0m\u001b[0mf\u001b[0m\u001b[0;34m)\u001b[0m\u001b[0;34m]\u001b[0m\u001b[0;34m\u001b[0m\u001b[0;34m\u001b[0m\u001b[0m\n\u001b[0m\u001b[1;32m    687\u001b[0m         \u001b[0;32melse\u001b[0m\u001b[0;34m:\u001b[0m\u001b[0;34m\u001b[0m\u001b[0;34m\u001b[0m\u001b[0m\n\u001b[1;32m    688\u001b[0m             \u001b[0mpaths\u001b[0m \u001b[0;34m=\u001b[0m \u001b[0;34m[\u001b[0m\u001b[0mpaths\u001b[0m\u001b[0;34m]\u001b[0m\u001b[0;34m\u001b[0m\u001b[0;34m\u001b[0m\u001b[0m\n",
            "\u001b[0;32m/usr/local/lib/python3.11/dist-packages/huggingface_hub/hf_file_system.py\u001b[0m in \u001b[0;36mglob\u001b[0;34m(self, path, **kwargs)\u001b[0m\n\u001b[1;32m    519\u001b[0m         \u001b[0mkwargs\u001b[0m \u001b[0;34m=\u001b[0m \u001b[0;34m{\u001b[0m\u001b[0;34m\"expand_info\"\u001b[0m\u001b[0;34m:\u001b[0m \u001b[0mkwargs\u001b[0m\u001b[0;34m.\u001b[0m\u001b[0mget\u001b[0m\u001b[0;34m(\u001b[0m\u001b[0;34m\"detail\"\u001b[0m\u001b[0;34m,\u001b[0m \u001b[0;32mFalse\u001b[0m\u001b[0;34m)\u001b[0m\u001b[0;34m,\u001b[0m \u001b[0;34m**\u001b[0m\u001b[0mkwargs\u001b[0m\u001b[0;34m}\u001b[0m\u001b[0;34m\u001b[0m\u001b[0;34m\u001b[0m\u001b[0m\n\u001b[1;32m    520\u001b[0m         \u001b[0mpath\u001b[0m \u001b[0;34m=\u001b[0m \u001b[0mself\u001b[0m\u001b[0;34m.\u001b[0m\u001b[0mresolve_path\u001b[0m\u001b[0;34m(\u001b[0m\u001b[0mpath\u001b[0m\u001b[0;34m,\u001b[0m \u001b[0mrevision\u001b[0m\u001b[0;34m=\u001b[0m\u001b[0mkwargs\u001b[0m\u001b[0;34m.\u001b[0m\u001b[0mget\u001b[0m\u001b[0;34m(\u001b[0m\u001b[0;34m\"revision\"\u001b[0m\u001b[0;34m)\u001b[0m\u001b[0;34m)\u001b[0m\u001b[0;34m.\u001b[0m\u001b[0munresolve\u001b[0m\u001b[0;34m(\u001b[0m\u001b[0;34m)\u001b[0m\u001b[0;34m\u001b[0m\u001b[0;34m\u001b[0m\u001b[0m\n\u001b[0;32m--> 521\u001b[0;31m         \u001b[0;32mreturn\u001b[0m \u001b[0msuper\u001b[0m\u001b[0;34m(\u001b[0m\u001b[0;34m)\u001b[0m\u001b[0;34m.\u001b[0m\u001b[0mglob\u001b[0m\u001b[0;34m(\u001b[0m\u001b[0mpath\u001b[0m\u001b[0;34m,\u001b[0m \u001b[0;34m**\u001b[0m\u001b[0mkwargs\u001b[0m\u001b[0;34m)\u001b[0m\u001b[0;34m\u001b[0m\u001b[0;34m\u001b[0m\u001b[0m\n\u001b[0m\u001b[1;32m    522\u001b[0m \u001b[0;34m\u001b[0m\u001b[0m\n\u001b[1;32m    523\u001b[0m     def find(\n",
            "\u001b[0;32m/usr/local/lib/python3.11/dist-packages/fsspec/spec.py\u001b[0m in \u001b[0;36mglob\u001b[0;34m(self, path, maxdepth, **kwargs)\u001b[0m\n\u001b[1;32m    609\u001b[0m         \u001b[0mallpaths\u001b[0m \u001b[0;34m=\u001b[0m \u001b[0mself\u001b[0m\u001b[0;34m.\u001b[0m\u001b[0mfind\u001b[0m\u001b[0;34m(\u001b[0m\u001b[0mroot\u001b[0m\u001b[0;34m,\u001b[0m \u001b[0mmaxdepth\u001b[0m\u001b[0;34m=\u001b[0m\u001b[0mdepth\u001b[0m\u001b[0;34m,\u001b[0m \u001b[0mwithdirs\u001b[0m\u001b[0;34m=\u001b[0m\u001b[0;32mTrue\u001b[0m\u001b[0;34m,\u001b[0m \u001b[0mdetail\u001b[0m\u001b[0;34m=\u001b[0m\u001b[0;32mTrue\u001b[0m\u001b[0;34m,\u001b[0m \u001b[0;34m**\u001b[0m\u001b[0mkwargs\u001b[0m\u001b[0;34m)\u001b[0m\u001b[0;34m\u001b[0m\u001b[0;34m\u001b[0m\u001b[0m\n\u001b[1;32m    610\u001b[0m \u001b[0;34m\u001b[0m\u001b[0m\n\u001b[0;32m--> 611\u001b[0;31m         \u001b[0mpattern\u001b[0m \u001b[0;34m=\u001b[0m \u001b[0mglob_translate\u001b[0m\u001b[0;34m(\u001b[0m\u001b[0mpath\u001b[0m \u001b[0;34m+\u001b[0m \u001b[0;34m(\u001b[0m\u001b[0;34m\"/\"\u001b[0m \u001b[0;32mif\u001b[0m \u001b[0mends_with_sep\u001b[0m \u001b[0;32melse\u001b[0m \u001b[0;34m\"\"\u001b[0m\u001b[0;34m)\u001b[0m\u001b[0;34m)\u001b[0m\u001b[0;34m\u001b[0m\u001b[0;34m\u001b[0m\u001b[0m\n\u001b[0m\u001b[1;32m    612\u001b[0m         \u001b[0mpattern\u001b[0m \u001b[0;34m=\u001b[0m \u001b[0mre\u001b[0m\u001b[0;34m.\u001b[0m\u001b[0mcompile\u001b[0m\u001b[0;34m(\u001b[0m\u001b[0mpattern\u001b[0m\u001b[0;34m)\u001b[0m\u001b[0;34m\u001b[0m\u001b[0;34m\u001b[0m\u001b[0m\n\u001b[1;32m    613\u001b[0m \u001b[0;34m\u001b[0m\u001b[0m\n",
            "\u001b[0;32m/usr/local/lib/python3.11/dist-packages/fsspec/utils.py\u001b[0m in \u001b[0;36mglob_translate\u001b[0;34m(pat)\u001b[0m\n\u001b[1;32m    729\u001b[0m             \u001b[0;32mcontinue\u001b[0m\u001b[0;34m\u001b[0m\u001b[0;34m\u001b[0m\u001b[0m\n\u001b[1;32m    730\u001b[0m         \u001b[0;32melif\u001b[0m \u001b[0;34m\"**\"\u001b[0m \u001b[0;32min\u001b[0m \u001b[0mpart\u001b[0m\u001b[0;34m:\u001b[0m\u001b[0;34m\u001b[0m\u001b[0;34m\u001b[0m\u001b[0m\n\u001b[0;32m--> 731\u001b[0;31m             raise ValueError(\n\u001b[0m\u001b[1;32m    732\u001b[0m                 \u001b[0;34m\"Invalid pattern: '**' can only be an entire path component\"\u001b[0m\u001b[0;34m\u001b[0m\u001b[0;34m\u001b[0m\u001b[0m\n\u001b[1;32m    733\u001b[0m             )\n",
            "\u001b[0;31mValueError\u001b[0m: Invalid pattern: '**' can only be an entire path component"
          ]
        }
      ],
      "source": [
        "mnist_dataset = datasets.load_dataset('mnist', split='train')"
      ]
    },
    {
      "cell_type": "markdown",
      "id": "c4eac817",
      "metadata": {
        "id": "c4eac817"
      },
      "source": [
        "The dataset object is conveniently accessible with methods similar to a python dictionary"
      ]
    },
    {
      "cell_type": "code",
      "execution_count": null,
      "id": "65264b07",
      "metadata": {
        "ExecuteTime": {
          "end_time": "2022-09-18T13:59:41.627611Z",
          "start_time": "2022-09-18T13:59:41.618760Z"
        },
        "id": "65264b07"
      },
      "outputs": [],
      "source": [
        "mnist_dataset"
      ]
    },
    {
      "cell_type": "code",
      "execution_count": null,
      "id": "c623209b",
      "metadata": {
        "ExecuteTime": {
          "end_time": "2022-09-18T13:59:41.939321Z",
          "start_time": "2022-09-18T13:59:41.629361Z"
        },
        "id": "c623209b"
      },
      "outputs": [],
      "source": [
        "mnist_dataset[0][\"image\"].resize((256, 256)).show()\n",
        "print(\"Image Size:\", mnist_dataset[0][\"image\"].size)\n",
        "print(\"Digit is labelled:\", mnist_dataset[0]['label'])"
      ]
    },
    {
      "cell_type": "markdown",
      "id": "b89acac9",
      "metadata": {
        "id": "b89acac9"
      },
      "source": [
        "### Data Preprocessing and Augmentation\n",
        "\n",
        "As downloaded, the MNIST dataset contains 60,000 PIL images with pixel values in the range of $[0,255]$. The data must be scaled, resized, and turned into a tensor for ingestion by a PyTorch model. These transformations can be handled by torchvision's transforms library. Transform objects can be sequentially listed in a Compose constructor, which will apply then apply the transformations when an image is passed as an argument.\n",
        "\n",
        "Three transforms are used. The first transforms the image to 32x32, in order to for the image width/height to be a power of two. The second transform turns the PIL image to a PyTorch tensor. When converting to a PyTorch tensor, the pixel range is transformed from $[0,255]$ to $[0,1]$. However, for the diffusion model the required pixel value range needs to be $[-1,1]$ since the Gaussian noise is zero mean, unit variance. Therefore, a lambda function is used to define a transform from $[0,1]$ to $[-1,1]$.\n",
        "\n",
        "The `Datasets` object has a method `set_transform()` which applies a function which takes the dataset object as an argument. Here the method is used to apply the torchvision transforms to the MNIST dataset."
      ]
    },
    {
      "cell_type": "code",
      "execution_count": null,
      "id": "b48fef7f",
      "metadata": {
        "ExecuteTime": {
          "end_time": "2022-09-18T13:59:41.944573Z",
          "start_time": "2022-09-18T13:59:41.940989Z"
        },
        "id": "b48fef7f"
      },
      "outputs": [],
      "source": [
        "def transform(dataset):\n",
        "    preprocess = torchvision.transforms.Compose(\n",
        "        [\n",
        "            torchvision.transforms.Resize(\n",
        "                (config.image_size, config.image_size)),\n",
        "            torchvision.transforms.ToTensor(),\n",
        "            torchvision.transforms.Lambda(lambda x: 2*(x-0.5)),\n",
        "        ]\n",
        "    )\n",
        "    images = [preprocess(image) for image in dataset[\"image\"]]\n",
        "    return {\"images\": images}"
      ]
    },
    {
      "cell_type": "code",
      "execution_count": null,
      "id": "9c45fa5a",
      "metadata": {
        "ExecuteTime": {
          "end_time": "2022-09-18T13:59:41.953514Z",
          "start_time": "2022-09-18T13:59:41.946503Z"
        },
        "id": "9c45fa5a"
      },
      "outputs": [],
      "source": [
        "mnist_dataset.reset_format()\n",
        "mnist_dataset.set_transform(transform)"
      ]
    },
    {
      "cell_type": "markdown",
      "id": "28c5e582",
      "metadata": {
        "ExecuteTime": {
          "end_time": "2022-09-12T01:45:48.940200Z",
          "start_time": "2022-09-12T01:45:48.932511Z"
        },
        "id": "28c5e582"
      },
      "source": [
        "Once the dataset has been prepared with the proper transformers, it is ready to be passed directly into a PyTorch DataLoader."
      ]
    },
    {
      "cell_type": "code",
      "execution_count": null,
      "id": "99e5554b",
      "metadata": {
        "ExecuteTime": {
          "end_time": "2022-09-18T13:59:41.960216Z",
          "start_time": "2022-09-18T13:59:41.955072Z"
        },
        "id": "99e5554b"
      },
      "outputs": [],
      "source": [
        "train_dataloader = torch.utils.data.DataLoader(\n",
        "    mnist_dataset,\n",
        "    batch_size = config.train_batch_size,\n",
        "    shuffle = True,\n",
        ")"
      ]
    },
    {
      "cell_type": "markdown",
      "id": "5fc57371",
      "metadata": {
        "ExecuteTime": {
          "end_time": "2022-09-12T01:52:10.455182Z",
          "start_time": "2022-09-12T01:52:10.452566Z"
        },
        "id": "5fc57371"
      },
      "source": [
        "## Creating the Diffusion Model\n",
        "\n",
        "### U-Net for MNIST\n",
        "\n",
        "The workhorse of the denoising diffusion model is a U-Net, which is predicts the noise present in the input image conditioned on the step in the noising process. HuggingFace's Diffusers library has default a [U-Net class](https://huggingface.co/docs/diffusers/api/models#diffusers.UNet2DModel) which creates a PyTorch model based upon the input values. Here the input and output channels are set to one since the image is black and white. The rest of the parameters mirror the choices found in the example notebook from HuggingFace."
      ]
    },
    {
      "cell_type": "code",
      "execution_count": null,
      "id": "727fcd02",
      "metadata": {
        "ExecuteTime": {
          "end_time": "2022-09-18T13:59:42.277321Z",
          "start_time": "2022-09-18T13:59:41.961986Z"
        },
        "id": "727fcd02"
      },
      "outputs": [],
      "source": [
        "model = diffusers.UNet2DModel(\n",
        "    sample_size=config.image_size,\n",
        "    in_channels=1,\n",
        "    out_channels=1,\n",
        "    layers_per_block=2,\n",
        "    block_out_channels=(128,128,256,512),\n",
        "    down_block_types=(\n",
        "        \"DownBlock2D\",\n",
        "        \"DownBlock2D\",\n",
        "        \"AttnDownBlock2D\",\n",
        "        \"DownBlock2D\",\n",
        "    ),\n",
        "    up_block_types=(\n",
        "        \"UpBlock2D\",\n",
        "        \"AttnUpBlock2D\",\n",
        "        \"UpBlock2D\",\n",
        "        \"UpBlock2D\",\n",
        "    ),\n",
        ")"
      ]
    },
    {
      "cell_type": "markdown",
      "id": "e0eb79f4",
      "metadata": {
        "id": "e0eb79f4"
      },
      "source": [
        "Check that the input image to the model and the output have the same shape"
      ]
    },
    {
      "cell_type": "code",
      "execution_count": null,
      "id": "26f8494e",
      "metadata": {
        "ExecuteTime": {
          "end_time": "2022-09-18T13:59:42.286197Z",
          "start_time": "2022-09-18T13:59:42.281292Z"
        },
        "id": "26f8494e"
      },
      "outputs": [],
      "source": [
        "sample_image = mnist_dataset[0][\"images\"].unsqueeze(0)\n",
        "print(\"Input shape:\", sample_image.shape)"
      ]
    },
    {
      "cell_type": "code",
      "execution_count": null,
      "id": "25490126",
      "metadata": {
        "ExecuteTime": {
          "end_time": "2022-09-18T13:59:42.400321Z",
          "start_time": "2022-09-18T13:59:42.288132Z"
        },
        "id": "25490126"
      },
      "outputs": [],
      "source": [
        "print('Output shape:', model(sample_image, timestep=0)[\"sample\"].shape)"
      ]
    },
    {
      "cell_type": "markdown",
      "id": "62fad9c5",
      "metadata": {
        "id": "62fad9c5"
      },
      "source": [
        "### Noise Scheduler\n",
        "\n",
        "In diffusion models, the noise is added to images dependent on the step within noising/denoising process. In the original [DDPM paper](https://arxiv.org/abs/2006.11239), the strength of the noise added to the image (i.e. the variance of the zero mean Gaussian) increased linearly with time steps. The Diffusers library has a [noise scheduler object](https://huggingface.co/docs/diffusers/v0.3.0/en/api/schedulers#diffusers.DDPMScheduler) which handles the amount of noise to be added for a given step. The default values for noise are taken from the DDPM paper, but there are optional arguments to change the starting and ending noise strength, along with the how the noise changes with across steps."
      ]
    },
    {
      "cell_type": "code",
      "execution_count": null,
      "id": "b32db6ee",
      "metadata": {
        "ExecuteTime": {
          "end_time": "2022-09-18T13:59:42.406659Z",
          "start_time": "2022-09-18T13:59:42.402803Z"
        },
        "id": "b32db6ee"
      },
      "outputs": [],
      "source": [
        "noise_scheduler = diffusers.DDPMScheduler(num_train_timesteps=200, tensor_format='pt')"
      ]
    },
    {
      "cell_type": "markdown",
      "id": "cb924434",
      "metadata": {
        "id": "cb924434"
      },
      "source": [
        "We can take a digit and use the scheduler object to add noise. Below is the"
      ]
    },
    {
      "cell_type": "code",
      "execution_count": null,
      "id": "ee79b1fb",
      "metadata": {
        "ExecuteTime": {
          "end_time": "2022-09-18T13:59:42.417049Z",
          "start_time": "2022-09-18T13:59:42.408737Z"
        },
        "id": "ee79b1fb"
      },
      "outputs": [],
      "source": [
        "print(\"Original Digit\")\n",
        "torchvision.transforms.ToPILImage()(sample_image.squeeze(1)).resize((256,256))"
      ]
    },
    {
      "cell_type": "code",
      "execution_count": 5,
      "id": "92218ad6",
      "metadata": {
        "ExecuteTime": {
          "end_time": "2022-09-18T13:59:42.430777Z",
          "start_time": "2022-09-18T13:59:42.418962Z"
        },
        "scrolled": true,
        "colab": {
          "base_uri": "https://localhost:8080/",
          "height": 216
        },
        "id": "92218ad6",
        "outputId": "1b9ef76d-82bf-4c01-dd59-f5247a14d86a"
      },
      "outputs": [
        {
          "output_type": "error",
          "ename": "NameError",
          "evalue": "name 'sample_image' is not defined",
          "traceback": [
            "\u001b[0;31m---------------------------------------------------------------------------\u001b[0m",
            "\u001b[0;31mNameError\u001b[0m                                 Traceback (most recent call last)",
            "\u001b[0;32m/tmp/ipython-input-5-2021268756.py\u001b[0m in \u001b[0;36m<cell line: 0>\u001b[0;34m()\u001b[0m\n\u001b[0;32m----> 1\u001b[0;31m \u001b[0mnoise\u001b[0m \u001b[0;34m=\u001b[0m \u001b[0mtorch\u001b[0m\u001b[0;34m.\u001b[0m\u001b[0mrandn\u001b[0m\u001b[0;34m(\u001b[0m\u001b[0msample_image\u001b[0m\u001b[0;34m.\u001b[0m\u001b[0mshape\u001b[0m\u001b[0;34m)\u001b[0m\u001b[0;34m\u001b[0m\u001b[0;34m\u001b[0m\u001b[0m\n\u001b[0m\u001b[1;32m      2\u001b[0m \u001b[0mtimesteps\u001b[0m \u001b[0;34m=\u001b[0m \u001b[0mtorch\u001b[0m\u001b[0;34m.\u001b[0m\u001b[0mLongTensor\u001b[0m\u001b[0;34m(\u001b[0m\u001b[0;34m[\u001b[0m\u001b[0;36m199\u001b[0m\u001b[0;34m]\u001b[0m\u001b[0;34m)\u001b[0m\u001b[0;34m\u001b[0m\u001b[0;34m\u001b[0m\u001b[0m\n\u001b[1;32m      3\u001b[0m \u001b[0mnoisy_image\u001b[0m \u001b[0;34m=\u001b[0m \u001b[0mnoise_scheduler\u001b[0m\u001b[0;34m.\u001b[0m\u001b[0madd_noise\u001b[0m\u001b[0;34m(\u001b[0m\u001b[0msample_image\u001b[0m\u001b[0;34m,\u001b[0m\u001b[0mnoise\u001b[0m\u001b[0;34m,\u001b[0m\u001b[0mtimesteps\u001b[0m\u001b[0;34m)\u001b[0m\u001b[0;34m\u001b[0m\u001b[0;34m\u001b[0m\u001b[0m\n\u001b[1;32m      4\u001b[0m \u001b[0;34m\u001b[0m\u001b[0m\n\u001b[1;32m      5\u001b[0m \u001b[0mprint\u001b[0m\u001b[0;34m(\u001b[0m\u001b[0;34m\"Fully Noised Digit\"\u001b[0m\u001b[0;34m)\u001b[0m\u001b[0;34m\u001b[0m\u001b[0;34m\u001b[0m\u001b[0m\n",
            "\u001b[0;31mNameError\u001b[0m: name 'sample_image' is not defined"
          ]
        }
      ],
      "source": [
        "noise = torch.randn(sample_image.shape)\n",
        "timesteps = torch.LongTensor([199])\n",
        "noisy_image = noise_scheduler.add_noise(sample_image,noise,timesteps)\n",
        "\n",
        "print(\"Fully Noised Digit\")\n",
        "torchvision.transforms.ToPILImage()(noisy_image.squeeze(1)).resize((256,256))"
      ]
    },
    {
      "cell_type": "markdown",
      "id": "3ea52508",
      "metadata": {
        "id": "3ea52508"
      },
      "source": [
        "### Optimizer\n",
        "\n",
        "Let's have the U-Net can learn with the [AdamW optimizer](https://pytorch.org/docs/stable/generated/torch.optim.AdamW.html)."
      ]
    },
    {
      "cell_type": "code",
      "execution_count": null,
      "id": "9c56d694",
      "metadata": {
        "ExecuteTime": {
          "end_time": "2022-09-18T13:59:42.437219Z",
          "start_time": "2022-09-18T13:59:42.433193Z"
        },
        "id": "9c56d694"
      },
      "outputs": [],
      "source": [
        "optimizer = torch.optim.AdamW(model.parameters(),lr=config.learning_rate)"
      ]
    },
    {
      "cell_type": "markdown",
      "id": "545a2adc",
      "metadata": {
        "id": "545a2adc"
      },
      "source": [
        "### Learning Rate Scheduler\n",
        "\n",
        "As mentioned previously, in [Improved Denoising Diffusion Probabilistic Models](https://arxiv.org/abs/2102.09672), they find a learning rate schedule which first warmups for a fixed number of steps and then follows a cosine schedule thereafter to be effective in training the model. The diffusers library has a [method](https://huggingface.co/docs/transformers/main_classes/optimizer_schedules#transformers.get_cosine_schedule_with_warmup) which creates a PyTorch learning rate scheduler which follows the advice given in this paper."
      ]
    },
    {
      "cell_type": "code",
      "execution_count": null,
      "id": "3ca30006",
      "metadata": {
        "ExecuteTime": {
          "end_time": "2022-09-18T13:59:42.444954Z",
          "start_time": "2022-09-18T13:59:42.439766Z"
        },
        "id": "3ca30006"
      },
      "outputs": [],
      "source": [
        "# Cosine learning rate scheduler\n",
        "\n",
        "lr_scheduler = diffusers.optimization.get_cosine_schedule_with_warmup(\n",
        "    optimizer=optimizer,\n",
        "    num_warmup_steps=config.lr_warmpup_steps,\n",
        "    num_training_steps=(len(train_dataloader)*config.num_epochs),\n",
        ")"
      ]
    },
    {
      "cell_type": "markdown",
      "id": "e632c028",
      "metadata": {
        "id": "e632c028"
      },
      "source": [
        "## Training the Model"
      ]
    },
    {
      "cell_type": "markdown",
      "id": "7a1f55e4",
      "metadata": {
        "id": "7a1f55e4"
      },
      "source": [
        "### Creating and Running Training Loop\n",
        "\n",
        "The training function first creates a HuggingFace [`accelerator`](https://huggingface.co/docs/accelerate/v0.12.0/en/package_reference/accelerator#accelerator) object. The purpose of the `accelerator` object is to automatically handle device assignment for PyTorch objects when training on multiple devices and to make the code portable when running in multiple setups. Once created, the `accelerator` has a method `prepare` which takes all of the model/U-Net, optimizer, dataloader, and learning rate scheduler and automatically detects the correct device(s) and makes the appropriate `.to()` assignments.\n",
        "\n",
        "After those objects are \"prepared\", the training has an outer `for` loop for each epoch and an inner `for` loop for each mini-batch. In each mini-batch, a set of digits is taken from the dataset. Random noise with the same size of the minibatch is then sampled. Then, for each image in the minibatch, a random step in the noising process is (uniformly) selected. Noise is then added to each image based upon the randomly sampled noise and the randomly selected step. The U-Net then predicts the noise added to the image conditioned on the selected step. A mean squared error loss is then calculated between the predicted noise and the actual noise added to the image. This loss is then used to update the weights for each mini-batch.  "
      ]
    },
    {
      "cell_type": "code",
      "execution_count": null,
      "id": "bc32a77d",
      "metadata": {
        "ExecuteTime": {
          "end_time": "2022-09-18T13:59:43.888449Z",
          "start_time": "2022-09-18T13:59:43.869634Z"
        },
        "id": "bc32a77d"
      },
      "outputs": [],
      "source": [
        "def train_loop(\n",
        "        config,\n",
        "        model,\n",
        "        noise_scheduler,\n",
        "        optimizer,\n",
        "        train_dataloader,\n",
        "        lr_scheduler):\n",
        "\n",
        "    accelerator = accelerate.Accelerator(\n",
        "        mixed_precision=config.mixed_precision,\n",
        "        gradient_accumulation_steps=config.gradient_accumulation_steps,\n",
        "    )\n",
        "\n",
        "    model, optimizer, train_dataloader, lr_scheduler = accelerator.prepare(\n",
        "        model, optimizer, train_dataloader, lr_scheduler\n",
        "    )\n",
        "\n",
        "    for epoch in range(config.num_epochs):\n",
        "        progress_bar = tqdm(total=len(train_dataloader),\n",
        "                            disable=not accelerator.is_local_main_process)\n",
        "        progress_bar.set_description(f\"Epoch {epoch}\")\n",
        "\n",
        "        for step, batch in enumerate(train_dataloader):\n",
        "            clean_images = batch['images']\n",
        "\n",
        "            noise = torch.randn(clean_images.shape).to(clean_images.device)\n",
        "            batch_size = clean_images.shape[0]\n",
        "\n",
        "            # Sample a set of random time steps for each image in mini-batch\n",
        "            timesteps = torch.randint(\n",
        "                0, noise_scheduler.num_train_timesteps, (batch_size,), device=clean_images.device)\n",
        "\n",
        "            noisy_images=noise_scheduler.add_noise(clean_images, noise, timesteps)\n",
        "\n",
        "            with accelerator.accumulate(model):\n",
        "                noise_pred = model(noisy_images,timesteps)[\"sample\"]\n",
        "                loss = torch.nn.functional.mse_loss(noise_pred,noise)\n",
        "                accelerator.backward(loss)\n",
        "\n",
        "                accelerator.clip_grad_norm_(model.parameters(),1.0)\n",
        "                optimizer.step()\n",
        "                lr_scheduler.step()\n",
        "                optimizer.zero_grad()\n",
        "\n",
        "            progress_bar.update(1)\n",
        "            logs = {\n",
        "                \"loss\" : loss.detach().item(),\n",
        "                \"lr\" : lr_scheduler.get_last_lr()[0],\n",
        "            }\n",
        "            progress_bar.set_postfix(**logs)\n",
        "\n",
        "    accelerator.unwrap_model(model)"
      ]
    },
    {
      "cell_type": "markdown",
      "id": "0d8cd149",
      "metadata": {
        "id": "0d8cd149"
      },
      "source": [
        "Once the training loop set up, the function along with its arguments can be passed to the accelerate library's [`notebook launcher`](https://huggingface.co/docs/accelerate/v0.12.0/en/basic_tutorials/notebook#using-the-notebooklauncher) to train within the notebook."
      ]
    },
    {
      "cell_type": "code",
      "execution_count": null,
      "id": "0942d8da",
      "metadata": {
        "ExecuteTime": {
          "end_time": "2022-09-18T14:27:58.625442Z",
          "start_time": "2022-09-18T13:59:43.891045Z"
        },
        "scrolled": true,
        "colab": {
          "referenced_widgets": [
            "e33dff5e7a5c4c99a6004bcf649d3fdf",
            "e453be563eda43dc89c81cf20dd8ae8f",
            "9072aa273e384538befbff117cd42ae3",
            "a7bcb73e6b3c42d6a38baf45662797f5",
            "698519947fb24e599e07f232965b34d6"
          ]
        },
        "id": "0942d8da",
        "outputId": "c7c2ad5d-f5e4-414f-d854-5162b00229e3"
      },
      "outputs": [
        {
          "name": "stdout",
          "output_type": "stream",
          "text": [
            "Launching training on one GPU.\n"
          ]
        },
        {
          "data": {
            "application/vnd.jupyter.widget-view+json": {
              "model_id": "e33dff5e7a5c4c99a6004bcf649d3fdf",
              "version_major": 2,
              "version_minor": 0
            },
            "text/plain": [
              "  0%|          | 0/1875 [00:00<?, ?it/s]"
            ]
          },
          "metadata": {},
          "output_type": "display_data"
        },
        {
          "data": {
            "application/vnd.jupyter.widget-view+json": {
              "model_id": "e453be563eda43dc89c81cf20dd8ae8f",
              "version_major": 2,
              "version_minor": 0
            },
            "text/plain": [
              "  0%|          | 0/1875 [00:00<?, ?it/s]"
            ]
          },
          "metadata": {},
          "output_type": "display_data"
        },
        {
          "data": {
            "application/vnd.jupyter.widget-view+json": {
              "model_id": "9072aa273e384538befbff117cd42ae3",
              "version_major": 2,
              "version_minor": 0
            },
            "text/plain": [
              "  0%|          | 0/1875 [00:00<?, ?it/s]"
            ]
          },
          "metadata": {},
          "output_type": "display_data"
        },
        {
          "data": {
            "application/vnd.jupyter.widget-view+json": {
              "model_id": "a7bcb73e6b3c42d6a38baf45662797f5",
              "version_major": 2,
              "version_minor": 0
            },
            "text/plain": [
              "  0%|          | 0/1875 [00:00<?, ?it/s]"
            ]
          },
          "metadata": {},
          "output_type": "display_data"
        },
        {
          "data": {
            "application/vnd.jupyter.widget-view+json": {
              "model_id": "698519947fb24e599e07f232965b34d6",
              "version_major": 2,
              "version_minor": 0
            },
            "text/plain": [
              "  0%|          | 0/1875 [00:00<?, ?it/s]"
            ]
          },
          "metadata": {},
          "output_type": "display_data"
        }
      ],
      "source": [
        "args = (config, model, noise_scheduler, optimizer, train_dataloader, lr_scheduler)\n",
        "\n",
        "accelerate.notebook_launcher(train_loop, args, num_processes=1)"
      ]
    },
    {
      "cell_type": "markdown",
      "id": "b9c91101",
      "metadata": {
        "ExecuteTime": {
          "end_time": "2022-09-13T01:05:04.543067Z",
          "start_time": "2022-09-13T01:05:04.539888Z"
        },
        "id": "b9c91101"
      },
      "source": [
        "## Create a sampling function\n",
        "\n",
        "Once the model has been trained, we can sample the model to create digits. Or more accurately create a sample which is within the learned distribution of the training samples, since some generated samples look like an alien's numbering system, a mish-mash of the numbers 0-9.\n",
        "\n",
        "To sample images, the Diffusers library has several pipelines. However, [I found that these pipelines don't work for single channel images](https://github.com/huggingface/diffusers/issues/488). So I created a small function which samples the images, with an optional argument for saving off each step. Importantly, the function needs to have a `torch.no_grad()` decorator so the model doesn't accumulate the history of the forward passes."
      ]
    },
    {
      "cell_type": "code",
      "execution_count": null,
      "id": "50233a13",
      "metadata": {
        "ExecuteTime": {
          "end_time": "2022-09-18T14:27:58.632034Z",
          "start_time": "2022-09-18T14:27:58.627319Z"
        },
        "id": "50233a13"
      },
      "outputs": [],
      "source": [
        "@torch.no_grad()\n",
        "def sample(unet, scheduler,seed,save_process_dir=None):\n",
        "    torch.manual_seed(seed)\n",
        "\n",
        "    if save_process_dir:\n",
        "        if not os.path.exists(save_process_dir):\n",
        "            os.mkdir(save_process_dir)\n",
        "\n",
        "    scheduler.set_timesteps(1000)\n",
        "    image=torch.randn((1,1,32,32)).to(model.device)\n",
        "    num_steps=max(noise_scheduler.timesteps).numpy()\n",
        "\n",
        "    for t in noise_scheduler.timesteps:\n",
        "        model_output=unet(image,t)['sample']\n",
        "        image=scheduler.step(model_output,int(t),image,generator=None)['prev_sample']\n",
        "        if save_process_dir:\n",
        "            save_image=torchvision.transforms.ToPILImage()(image.squeeze(0))\n",
        "            save_image.resize((256,256)).save(\n",
        "                os.path.join(save_process_dir,\"seed-\"+str(seed)+\"_\"+f\"{num_steps-t.numpy():03d}\"+\".png\"),format=\"png\")\n",
        "\n",
        "    return torchvision.transforms.ToPILImage()(image.squeeze(0))"
      ]
    },
    {
      "cell_type": "markdown",
      "id": "0b4b8fac",
      "metadata": {
        "id": "0b4b8fac"
      },
      "source": [
        "## Sample some good looking digits!\n",
        "\n",
        "Some samples look quit good..."
      ]
    },
    {
      "cell_type": "code",
      "execution_count": null,
      "id": "10749df5",
      "metadata": {
        "ExecuteTime": {
          "end_time": "2022-09-18T14:29:08.871758Z",
          "start_time": "2022-09-18T14:29:03.243591Z"
        },
        "scrolled": true,
        "id": "10749df5",
        "outputId": "076f941f-94f3-4da0-8f7b-d3c7a04ffb04"
      },
      "outputs": [
        {
          "data": {
            "image/png": "[encoded data removed]",
            "text/plain": [
              "<PIL.Image.Image image mode=L size=265x256>"
            ]
          },
          "execution_count": 25,
          "metadata": {},
          "output_type": "execute_result"
        }
      ],
      "source": [
        "test_image=sample(model,noise_scheduler,2)\n",
        "test_image.resize((265,256))"
      ]
    },
    {
      "cell_type": "code",
      "execution_count": null,
      "id": "0a922ae8",
      "metadata": {
        "ExecuteTime": {
          "end_time": "2022-09-18T14:28:09.441042Z",
          "start_time": "2022-09-18T14:28:03.963745Z"
        },
        "id": "0a922ae8",
        "outputId": "a9faec74-ae81-47d5-8827-1bdf99df949e"
      },
      "outputs": [
        {
          "data": {
            "image/png": "[encoded data removed]",
            "text/plain": [
              "<PIL.Image.Image image mode=L size=256x256>"
            ]
          },
          "execution_count": 22,
          "metadata": {},
          "output_type": "execute_result"
        }
      ],
      "source": [
        "test_image=sample(model,noise_scheduler,5)\n",
        "test_image.resize((256,256))"
      ]
    },
    {
      "cell_type": "code",
      "execution_count": null,
      "id": "40168b51",
      "metadata": {
        "ExecuteTime": {
          "end_time": "2022-09-18T14:28:14.835514Z",
          "start_time": "2022-09-18T14:28:09.442773Z"
        },
        "id": "40168b51",
        "outputId": "bb75e878-fd79-4534-84b5-5a06ef4c078e"
      },
      "outputs": [
        {
          "data": {
            "image/png": "[encoded data removed]",
            "text/plain": [
              "<PIL.Image.Image image mode=L size=256x256>"
            ]
          },
          "execution_count": 23,
          "metadata": {},
          "output_type": "execute_result"
        }
      ],
      "source": [
        "test_image=sample(model,noise_scheduler,1991)\n",
        "test_image.resize((256,256))"
      ]
    },
    {
      "cell_type": "markdown",
      "id": "2dcf68cf",
      "metadata": {
        "ExecuteTime": {
          "end_time": "2022-09-12T23:00:56.629937Z",
          "start_time": "2022-09-12T23:00:56.624551Z"
        },
        "id": "2dcf68cf"
      },
      "source": [
        "But others aren't quite recognizable as a number, but look like they *could* be number if things went just slightly differently..."
      ]
    },
    {
      "cell_type": "code",
      "execution_count": null,
      "id": "d48d76bb",
      "metadata": {
        "ExecuteTime": {
          "end_time": "2022-09-18T14:30:02.355485Z",
          "start_time": "2022-09-18T14:29:56.621635Z"
        },
        "id": "d48d76bb",
        "outputId": "172caecf-8066-45ea-dffb-60784d92a33d"
      },
      "outputs": [
        {
          "data": {
            "image/png": "[encoded data removed]",
            "text/plain": [
              "<PIL.Image.Image image mode=L size=256x256>"
            ]
          },
          "execution_count": 26,
          "metadata": {},
          "output_type": "execute_result"
        }
      ],
      "source": [
        "test_image=sample(model,noise_scheduler,2022)\n",
        "test_image.resize((256,256))"
      ]
    },
    {
      "cell_type": "code",
      "execution_count": null,
      "id": "bd90478d",
      "metadata": {
        "ExecuteTime": {
          "end_time": "2022-09-18T14:30:41.858751Z",
          "start_time": "2022-09-18T14:30:34.858460Z"
        },
        "id": "bd90478d",
        "outputId": "1dc0aa0b-5442-4fbb-f6f4-d1dd76036013"
      },
      "outputs": [
        {
          "data": {
            "image/png": "[encoded data removed]",
            "text/plain": [
              "<PIL.Image.Image image mode=L size=256x256>"
            ]
          },
          "execution_count": 28,
          "metadata": {},
          "output_type": "execute_result"
        }
      ],
      "source": [
        "test_image=sample(model,noise_scheduler,42)\n",
        "test_image.resize((256,256))"
      ]
    }
  ],
  "metadata": {
    "kernelspec": {
      "display_name": "Python 3",
      "name": "python3"
    },
    "language_info": {
      "codemirror_mode": {
        "name": "ipython",
        "version": 3
      },
      "file_extension": ".py",
      "mimetype": "text/x-python",
      "name": "python",
      "nbconvert_exporter": "python",
      "pygments_lexer": "ipython3",
      "version": "3.8.13"
    },
    "toc": {
      "base_numbering": 1,
      "nav_menu": {},
      "number_sections": false,
      "sideBar": true,
      "skip_h1_title": false,
      "title_cell": "Table of Contents",
      "title_sidebar": "Contents",
      "toc_cell": true,
      "toc_position": {},
      "toc_section_display": true,
      "toc_window_display": true
    },
    "colab": {
      "provenance": [],
      "gpuType": "T4"
    },
    "accelerator": "GPU",
    "widgets": {
      "application/vnd.jupyter.widget-state+json": {}
    }
  },
  "nbformat": 4,
  "nbformat_minor": 5
}